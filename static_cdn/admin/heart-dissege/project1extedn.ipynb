{
 "cells": [
  {
   "cell_type": "code",
   "execution_count": 30,
   "metadata": {},
   "outputs": [],
   "source": [
    "age=['45','45','45','45','45','45','45','45','45','45','45','46','46','46','46','46','46','46','46','46','46','46','47','47','47','47','47','47','47','47','47','47','47','48','48','48','48','48','48','48','48','48','48','48','49','49','49','49','49','49','49','49','49','49','49','50','50','50','50','50','50','50','50','50','50','50']\n",
    "gender=['m','m','m','m','m','m','m','m','m','m','m','m','m','m','m','m','m','m','m','m','m','m','m','m','m','m','m','m','m','m','m','m','m','m','m','m','m','m','m','m','m','m','m','m','m','m','m','m','m','m','m','m','m','m','m','m','m','m','m','m','m','m','m','m','m','m']\n",
    "bp=['high','high','high','high','normal','normal','normal','low','low','low','low','high','high','high','high','normal','normal','normal','low','low','low','low','high','high','high','high','normal','normal','normal','low','low','low','low','high','high','high','high','normal','normal','normal','low','low','low','low','high','high','high','high','normal','normal','normal','low','low','low','low','high','high','high','high','normal','normal','normal','low','low','low','low']\n",
    "\n",
    "sugar= ['yes','yes','no','yes','yes','no','no','yes','no','yes','no','yes','yes','no','yes','yes','no','no','yes','no','yes','no','yes','yes','no','yes','yes','no','no','yes','no','yes','no','yes','yes','no','yes','yes','no','no','yes','no','yes','no','yes','yes','no','yes','yes','no','no','yes','no','yes','no','yes','yes','no','yes','yes','no','no','yes','no','yes','no']\n",
    "fh=['fat','mid','low','low','fat','low','mid','fat','low','mid','low','fat','mid','low','low','fat','low','mid','fat','low','mid','low','fat','mid','low','low','fat','low','mid','fat','low','mid','low','fat','mid','low','low','fat','low','mid','fat','low','mid','low','fat','mid','low','low','fat','low','mid','fat','low','mid','low','fat','mid','low','low','fat','low','mid','fat','low','mid','low']\n",
    "bmi=['high','mid','mid','low','low','mid','high','low','low','low','low','high','mid','mid','low','low','mid','high','low','low','low','low','high','mid','mid','low','low','mid','high','low','low','low','low','high','mid','mid','low','low','mid','high','low','low','low','low','high','mid','mid','low','low','mid','high','low','low','low','low','high','mid','mid','low','low','mid','high','low','low','low','low']\n",
    "smoke=['yes','yes','no','yes','no','yes','yes','no','yes','yes','no','yes','yes','no','yes','no','yes','yes','no','yes','yes','no','yes','yes','no','yes','no','yes','yes','no','yes','yes','no','yes','yes','no','yes','no','yes','yes','no','yes','yes','no','yes','yes','no','yes','no','yes','yes','no','yes','yes','no','yes','yes','no','yes','no','yes','yes','no','yes','yes','no']\n",
    "hw=['yes','yes','yes','yes','yes','no','no','no','no','yes','yes','yes','yes','yes','yes','yes','no','no','no','no','yes','yes','yes','yes','yes','yes','yes','no','no','no','no','yes','yes','yes','yes','yes','yes','yes','no','no','no','no','yes','yes','yes','yes','yes','yes','yes','no','no','no','no','yes','yes','yes','yes','yes','yes','yes','no','no','no','no','yes','yes']\n",
    "hd=['high','high','high','mid','low','mid','high','high','high','mid','mid','high','high','high','mid','low','mid','high','high','high','mid','mid','high','high','high','mid','low','mid','high','high','high','mid','mid','high','high','high','mid','low','mid','high','high','high','mid','mid','high','high','high','mid','low','mid','high','high','high','mid','mid','high','high','high','mid','low','mid','high','high','high','mid','mid']\n",
    "\n",
    "\n",
    "cd=['need','may','optional','may','optional','may','need','need','need','may','may','need','may','optional','may','optional','may','need','need','need','may','may','need','may','optional','may','optional','may','need','need','need','may','may','need','may','optional','may','optional','may','need','need','need','may','may','need','may','optional','may','optional','may','need','need','need','may','may','need','may','optional','may','optional','may','need','need','need','may','may']\n"
   ]
  },
  {
   "cell_type": "code",
   "execution_count": 31,
   "metadata": {},
   "outputs": [
    {
     "name": "stdout",
     "output_type": "stream",
     "text": [
      "age: [0 0 0 0 0 0 0 0 0 0 0 1 1 1 1 1 1 1 1 1 1 1 2 2 2 2 2 2 2 2 2 2 2 3 3 3 3\n",
      " 3 3 3 3 3 3 3 4 4 4 4 4 4 4 4 4 4 4 5 5 5 5 5 5 5 5 5 5 5]\n",
      "gender: [0 0 0 0 0 0 0 0 0 0 0 0 0 0 0 0 0 0 0 0 0 0 0 0 0 0 0 0 0 0 0 0 0 0 0 0 0\n",
      " 0 0 0 0 0 0 0 0 0 0 0 0 0 0 0 0 0 0 0 0 0 0 0 0 0 0 0 0 0]\n",
      "bp: [0 0 0 0 2 2 2 1 1 1 1 0 0 0 0 2 2 2 1 1 1 1 0 0 0 0 2 2 2 1 1 1 1 0 0 0 0\n",
      " 2 2 2 1 1 1 1 0 0 0 0 2 2 2 1 1 1 1 0 0 0 0 2 2 2 1 1 1 1]\n",
      "sugar: [1 1 0 1 1 0 0 1 0 1 0 1 1 0 1 1 0 0 1 0 1 0 1 1 0 1 1 0 0 1 0 1 0 1 1 0 1\n",
      " 1 0 0 1 0 1 0 1 1 0 1 1 0 0 1 0 1 0 1 1 0 1 1 0 0 1 0 1 0]\n",
      "fh: [0 2 1 1 0 1 2 0 1 2 1 0 2 1 1 0 1 2 0 1 2 1 0 2 1 1 0 1 2 0 1 2 1 0 2 1 1\n",
      " 0 1 2 0 1 2 1 0 2 1 1 0 1 2 0 1 2 1 0 2 1 1 0 1 2 0 1 2 1]\n",
      "bmi: [0 2 2 1 1 2 0 1 1 1 1 0 2 2 1 1 2 0 1 1 1 1 0 2 2 1 1 2 0 1 1 1 1 0 2 2 1\n",
      " 1 2 0 1 1 1 1 0 2 2 1 1 2 0 1 1 1 1 0 2 2 1 1 2 0 1 1 1 1]\n",
      "smoke: [1 1 0 1 0 1 1 0 1 1 0 1 1 0 1 0 1 1 0 1 1 0 1 1 0 1 0 1 1 0 1 1 0 1 1 0 1\n",
      " 0 1 1 0 1 1 0 1 1 0 1 0 1 1 0 1 1 0 1 1 0 1 0 1 1 0 1 1 0]\n",
      "hw: [1 1 1 1 1 0 0 0 0 1 1 1 1 1 1 1 0 0 0 0 1 1 1 1 1 1 1 0 0 0 0 1 1 1 1 1 1\n",
      " 1 0 0 0 0 1 1 1 1 1 1 1 0 0 0 0 1 1 1 1 1 1 1 0 0 0 0 1 1]\n",
      "hd: [0 0 0 2 1 2 0 0 0 2 2 0 0 0 2 1 2 0 0 0 2 2 0 0 0 2 1 2 0 0 0 2 2 0 0 0 2\n",
      " 1 2 0 0 0 2 2 0 0 0 2 1 2 0 0 0 2 2 0 0 0 2 1 2 0 0 0 2 2]\n",
      "cd: [1 0 2 0 2 0 1 1 1 0 0 1 0 2 0 2 0 1 1 1 0 0 1 0 2 0 2 0 1 1 1 0 0 1 0 2 0\n",
      " 2 0 1 1 1 0 0 1 0 2 0 2 0 1 1 1 0 0 1 0 2 0 2 0 1 1 1 0 0]\n"
     ]
    }
   ],
   "source": [
    "# Import LabelEncoder\n",
    "from sklearn import preprocessing\n",
    "#creating labelEncoder\n",
    "le = preprocessing.LabelEncoder()\n",
    "# Converting string labels into numbers.\n",
    "age_encoded=le.fit_transform(age)\n",
    "# Converting string labels into numbers\n",
    "gender_encoded=le.fit_transform(gender)\n",
    "bp_encoded=le.fit_transform(bp)\n",
    "sugar_encoded=le.fit_transform(sugar)\n",
    "fh_encoded=le.fit_transform(fh)\n",
    "bmi_encoded=le.fit_transform(bmi)\n",
    "smoke_encoded=le.fit_transform(smoke)\n",
    "hd_encoded=le.fit_transform(hd)\n",
    "hw_encoded=le.fit_transform(hw)\n",
    "\n",
    "\n",
    "label=le.fit_transform(cd)\n",
    "\n",
    "print (\"age:\",age_encoded)\n",
    "print (\"gender:\",gender_encoded)\n",
    "print (\"bp:\",bp_encoded)\n",
    "print (\"sugar:\",sugar_encoded)\n",
    "print (\"fh:\",fh_encoded)\n",
    "print (\"bmi:\",bmi_encoded)\n",
    "print(\"smoke:\",smoke_encoded)\n",
    "print(\"hw:\",hw_encoded)\n",
    "print(\"hd:\",hd_encoded)\n",
    "print (\"cd:\",label)\n",
    "\n",
    "\n"
   ]
  },
  {
   "cell_type": "code",
   "execution_count": 32,
   "metadata": {},
   "outputs": [
    {
     "name": "stdout",
     "output_type": "stream",
     "text": [
      "[[0, 0, 1, 0, 0, 0, 1, 1, 0], [0, 0, 1, 0, 2, 2, 1, 1, 0], [0, 0, 0, 0, 1, 2, 0, 1, 0], [0, 0, 1, 0, 1, 1, 1, 1, 2], [0, 0, 1, 2, 0, 1, 0, 1, 1], [0, 0, 0, 2, 1, 2, 1, 0, 2], [0, 0, 0, 2, 2, 0, 1, 0, 0], [0, 0, 1, 1, 0, 1, 0, 0, 0], [0, 0, 0, 1, 1, 1, 1, 0, 0], [0, 0, 1, 1, 2, 1, 1, 1, 2], [0, 0, 0, 1, 1, 1, 0, 1, 2], [1, 0, 1, 0, 0, 0, 1, 1, 0], [1, 0, 1, 0, 2, 2, 1, 1, 0], [1, 0, 0, 0, 1, 2, 0, 1, 0], [1, 0, 1, 0, 1, 1, 1, 1, 2], [1, 0, 1, 2, 0, 1, 0, 1, 1], [1, 0, 0, 2, 1, 2, 1, 0, 2], [1, 0, 0, 2, 2, 0, 1, 0, 0], [1, 0, 1, 1, 0, 1, 0, 0, 0], [1, 0, 0, 1, 1, 1, 1, 0, 0], [1, 0, 1, 1, 2, 1, 1, 1, 2], [1, 0, 0, 1, 1, 1, 0, 1, 2], [2, 0, 1, 0, 0, 0, 1, 1, 0], [2, 0, 1, 0, 2, 2, 1, 1, 0], [2, 0, 0, 0, 1, 2, 0, 1, 0], [2, 0, 1, 0, 1, 1, 1, 1, 2], [2, 0, 1, 2, 0, 1, 0, 1, 1], [2, 0, 0, 2, 1, 2, 1, 0, 2], [2, 0, 0, 2, 2, 0, 1, 0, 0], [2, 0, 1, 1, 0, 1, 0, 0, 0], [2, 0, 0, 1, 1, 1, 1, 0, 0], [2, 0, 1, 1, 2, 1, 1, 1, 2], [2, 0, 0, 1, 1, 1, 0, 1, 2], [3, 0, 1, 0, 0, 0, 1, 1, 0], [3, 0, 1, 0, 2, 2, 1, 1, 0], [3, 0, 0, 0, 1, 2, 0, 1, 0], [3, 0, 1, 0, 1, 1, 1, 1, 2], [3, 0, 1, 2, 0, 1, 0, 1, 1], [3, 0, 0, 2, 1, 2, 1, 0, 2], [3, 0, 0, 2, 2, 0, 1, 0, 0], [3, 0, 1, 1, 0, 1, 0, 0, 0], [3, 0, 0, 1, 1, 1, 1, 0, 0], [3, 0, 1, 1, 2, 1, 1, 1, 2], [3, 0, 0, 1, 1, 1, 0, 1, 2], [4, 0, 1, 0, 0, 0, 1, 1, 0], [4, 0, 1, 0, 2, 2, 1, 1, 0], [4, 0, 0, 0, 1, 2, 0, 1, 0], [4, 0, 1, 0, 1, 1, 1, 1, 2], [4, 0, 1, 2, 0, 1, 0, 1, 1], [4, 0, 0, 2, 1, 2, 1, 0, 2], [4, 0, 0, 2, 2, 0, 1, 0, 0], [4, 0, 1, 1, 0, 1, 0, 0, 0], [4, 0, 0, 1, 1, 1, 1, 0, 0], [4, 0, 1, 1, 2, 1, 1, 1, 2], [4, 0, 0, 1, 1, 1, 0, 1, 2], [5, 0, 1, 0, 0, 0, 1, 1, 0], [5, 0, 1, 0, 2, 2, 1, 1, 0], [5, 0, 0, 0, 1, 2, 0, 1, 0], [5, 0, 1, 0, 1, 1, 1, 1, 2], [5, 0, 1, 2, 0, 1, 0, 1, 1], [5, 0, 0, 2, 1, 2, 1, 0, 2], [5, 0, 0, 2, 2, 0, 1, 0, 0], [5, 0, 1, 1, 0, 1, 0, 0, 0], [5, 0, 0, 1, 1, 1, 1, 0, 0], [5, 0, 1, 1, 2, 1, 1, 1, 2], [5, 0, 0, 1, 1, 1, 0, 1, 2]]\n",
      "<class 'list'>\n",
      "<class 'numpy.ndarray'>\n"
     ]
    }
   ],
   "source": [
    "c = lambda age_encoded, gender_encoded,sugar_encoded,bp_encoded,fh_encoded,bmi_encoded,smoke_encoded,hw_encoded,hd_encoded: [list(c) for c in zip(age_encoded, gender_encoded,sugar_encoded,bp_encoded,fh_encoded,bmi_encoded,smoke_encoded,hw_encoded,hd_encoded)]\n",
    "features = c(age_encoded, gender_encoded,sugar_encoded,bp_encoded,fh_encoded,bmi_encoded,smoke_encoded,hw_encoded,hd_encoded)\n",
    "\n",
    "print (list(features))\n",
    "print(type(features))\n",
    "print(type(label))"
   ]
  },
  {
   "cell_type": "code",
   "execution_count": 39,
   "metadata": {},
   "outputs": [
    {
     "name": "stdout",
     "output_type": "stream",
     "text": [
      "Predicted Value: [2]\n"
     ]
    }
   ],
   "source": [
    "#Import Gaussian Naive Bayes model\n",
    "from sklearn.naive_bayes import GaussianNB\n",
    "#Create a Gaussian Classifier\n",
    "model = GaussianNB()\n",
    "\n",
    "# Train the model using the training sets\n",
    "model.fit(features,label)\n",
    "\n",
    "#Predict Output\n",
    "\n",
    "#age 45=0,46=1,47=2,48=3,49=4,50=4\n",
    "#grnder male=0\n",
    "#blood pressure(bp) high=0 normal=2 low =1\n",
    "#sugar yes=1 no=0\n",
    "#food habit(fh) fat=0 mid=2 low =1\n",
    "#bmi high=0 mid=2 low=1\n",
    "#smoke yes=1 no=0\n",
    "#hardwork(hw) yes=1 no=0\n",
    "#heart dissege(hd) high=0 mid=2 low=1\n",
    "#contact doctor need=1 may=0 optional=2\n",
    "predicted= model.predict([[0, 0, 0, 0, 1, 2, 0, 1, 0]]) \n",
    "\n",
    "print (\"Predicted Value:\", predicted)"
   ]
  },
  {
   "cell_type": "code",
   "execution_count": null,
   "metadata": {},
   "outputs": [],
   "source": []
  },
  {
   "cell_type": "code",
   "execution_count": null,
   "metadata": {},
   "outputs": [],
   "source": []
  }
 ],
 "metadata": {
  "kernelspec": {
   "display_name": "Python 3",
   "language": "python",
   "name": "python3"
  },
  "language_info": {
   "codemirror_mode": {
    "name": "ipython",
    "version": 3
   },
   "file_extension": ".py",
   "mimetype": "text/x-python",
   "name": "python",
   "nbconvert_exporter": "python",
   "pygments_lexer": "ipython3",
   "version": "3.7.3"
  }
 },
 "nbformat": 4,
 "nbformat_minor": 2
}
